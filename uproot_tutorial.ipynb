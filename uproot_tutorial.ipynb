{
 "cells": [
  {
   "cell_type": "code",
   "execution_count": 3,
   "metadata": {},
   "outputs": [],
   "source": [
    "import numpy as np\n",
    "import uproot\n",
    "import os.path\n",
    "from subprocess import call\n",
    "import matplotlib.pyplot as plt\n",
    "import awkward.operations as ak"
   ]
  },
  {
   "cell_type": "code",
   "execution_count": 4,
   "metadata": {},
   "outputs": [],
   "source": [
    "if not os.path.isfile('tmva_class_example.root'):\n",
    "    call(['curl', '-L', '-O', 'http://root.cern.ch/files/tmva_class_example.root'])  #gets the data in case you don't have it downloaded\n",
    " \n",
    "data = uproot.open('tmva_class_example.root')"
   ]
  },
  {
   "cell_type": "markdown",
   "metadata": {},
   "source": [
    "Let's start by checking what objects we have in our file! "
   ]
  },
  {
   "cell_type": "code",
   "execution_count": 3,
   "metadata": {},
   "outputs": [
    {
     "data": {
      "text/plain": [
       "{'TreeS;1': 'TTree', 'TreeB;1': 'TTree'}"
      ]
     },
     "execution_count": 3,
     "metadata": {},
     "output_type": "execute_result"
    }
   ],
   "source": [
    "data.classnames()"
   ]
  },
  {
   "cell_type": "markdown",
   "metadata": {},
   "source": [
    "We can see that we have two TTree on this file, TreeS corresponds to our signal events and TreeB to our background events. Go ahead and assign each of them to a variable, you can do this by doing var=data[\"nameoftree\"]"
   ]
  },
  {
   "cell_type": "code",
   "execution_count": 4,
   "metadata": {},
   "outputs": [],
   "source": []
  },
  {
   "cell_type": "markdown",
   "metadata": {},
   "source": [
    "But what about the contents of the trees? Use the .keys() method to see all the variables in each of the trees. "
   ]
  },
  {
   "cell_type": "code",
   "execution_count": null,
   "metadata": {},
   "outputs": [],
   "source": []
  },
  {
   "cell_type": "markdown",
   "metadata": {},
   "source": [
    "Great! Now we can finally start looking at the events themselves. The .arrays() method let's us convert a TTree into an array. By default its converted into an awkward array (good for when variables have different sizes) but you can specify the type you want with the library=\"\" option, setting library=\"np\" makes it a numpy array and library=\"pd\" makes it a pandas array! You can also use the function ak.to_numpy(). to convert an awkward array into a numpy array (if possible)."
   ]
  },
  {
   "cell_type": "code",
   "execution_count": null,
   "metadata": {},
   "outputs": [],
   "source": []
  },
  {
   "cell_type": "markdown",
   "metadata": {},
   "source": [
    "If you want you can go and apply this method to the background tree with any library."
   ]
  },
  {
   "cell_type": "code",
   "execution_count": null,
   "metadata": {},
   "outputs": [],
   "source": []
  },
  {
   "cell_type": "markdown",
   "metadata": {},
   "source": [
    "We now have access to both trees and turned them into arrays, what if we want to acess a specific variable or event? Now its trivial since we are using arrays. First lets pass the arrays into a variable for simplicity, then we can acess any variable by doing arrays.varname or arrays[\"varname\"], for the event number we can simply put [i] to specify we want the event number i+1, like always!"
   ]
  },
  {
   "cell_type": "markdown",
   "metadata": {},
   "source": [
    "Try now to print the values of var1 for all events, the values of all variables for the first 10 events and the value of var4 for the 30th event. Use the signal events for this."
   ]
  },
  {
   "cell_type": "code",
   "execution_count": null,
   "metadata": {},
   "outputs": [],
   "source": []
  },
  {
   "cell_type": "markdown",
   "metadata": {},
   "source": [
    "Let's now plot this variables into histograms. Use plt.hist check the distributions of var1 on both signal and background. You can fiddle with the number of bins if you want a prettier looking plot. "
   ]
  },
  {
   "cell_type": "markdown",
   "metadata": {},
   "source": [
    "Now let's say we want to apply some cuts to our data. For some physics relevant reason we want only events that have positive values of var1. We can easily select this in two different ways, either using the cut functionality of the arrays() method (use .arrays(cut=\"condition\") ) or we can apply a mask to an already built array (array[condition]).\n",
    "\n",
    "Repeat the same plots as before but now only for events with var1>0."
   ]
  },
  {
   "cell_type": "code",
   "execution_count": null,
   "metadata": {},
   "outputs": [],
   "source": []
  },
  {
   "cell_type": "markdown",
   "metadata": {},
   "source": [
    "For multiple conditions remember you have to do cut=\"(condition1) & (condition2) & etc.\" \n",
    "\n",
    "Try and select all events with var1<0 and var3>var4"
   ]
  },
  {
   "cell_type": "code",
   "execution_count": null,
   "metadata": {},
   "outputs": [],
   "source": []
  },
  {
   "cell_type": "markdown",
   "metadata": {},
   "source": [
    "But what about if you are interested in a variable thats not listed directly? You can do that with the aliases when calling .arrays!"
   ]
  },
  {
   "cell_type": "code",
   "execution_count": 5,
   "metadata": {},
   "outputs": [],
   "source": [
    "TreeS=data[\"TreeS\"]\n",
    "newvar=TreeS.arrays(\"new\",aliases={\"new\":\"sqrt(var1**2+var2**2)\"})"
   ]
  },
  {
   "cell_type": "code",
   "execution_count": 6,
   "metadata": {},
   "outputs": [
    {
     "data": {
      "text/plain": [
       "(array([ 658., 1501., 1642., 1104.,  607.,  294.,  125.,   54.,   12.,\n",
       "           3.]),\n",
       " array([0.01593601, 0.4799633 , 0.94399059, 1.40801787, 1.87204516,\n",
       "        2.33607244, 2.80009985, 3.26412702, 3.72815442, 4.19218159,\n",
       "        4.65620899]),\n",
       " <BarContainer object of 10 artists>)"
      ]
     },
     "execution_count": 6,
     "metadata": {},
     "output_type": "execute_result"
    },
    {
     "data": {
      "image/png": "[encoded data removed]",
      "text/plain": [
       "<Figure size 432x288 with 1 Axes>"
      ]
     },
     "metadata": {
      "needs_background": "light"
     },
     "output_type": "display_data"
    }
   ],
   "source": [
    "plt.hist(ak.to_numpy(newvar[\"new\"]))"
   ]
  },
  {
   "cell_type": "markdown",
   "metadata": {},
   "source": [
    "So now we know how to read our root files, but what about writing them? To do this we need to open a root file in a different way, let's see how."
   ]
  },
  {
   "cell_type": "code",
   "execution_count": 8,
   "metadata": {},
   "outputs": [
    {
     "data": {
      "text/plain": [
       "{}"
      ]
     },
     "execution_count": 8,
     "metadata": {},
     "output_type": "execute_result"
    }
   ],
   "source": [
    "file=uproot.recreate(\"tim.root\")  #creates/opens the file we will write on\n",
    "\n",
    "del file                          # this simply deletes the file and all its contents, this is here only in case you want a fresh file\n",
    "\n",
    "file=uproot.recreate(\"tim.root\")  # reopens the same file which was deleted before, if you write something you didn't want you can now just rerun this cell!\n",
    "\n",
    "file.classnames()"
   ]
  },
  {
   "cell_type": "markdown",
   "metadata": {},
   "source": [
    "We can now add data to this file by assignement (think of it as a reverse of what we did at the start). Lets and add our latest histogram here."
   ]
  },
  {
   "cell_type": "code",
   "execution_count": 9,
   "metadata": {},
   "outputs": [],
   "source": [
    "file[\"newhist\"] = np.histogram(ak.to_numpy(newvar[\"new\"]))"
   ]
  },
  {
   "cell_type": "code",
   "execution_count": 10,
   "metadata": {},
   "outputs": [
    {
     "data": {
      "text/plain": [
       "{'newhist;1': 'TH1D'}"
      ]
     },
     "execution_count": 10,
     "metadata": {},
     "output_type": "execute_result"
    }
   ],
   "source": [
    "file.classnames()"
   ]
  },
  {
   "cell_type": "markdown",
   "metadata": {},
   "source": [
    "Try now to add the histogram you made in this tutorial to this file"
   ]
  },
  {
   "cell_type": "code",
   "execution_count": null,
   "metadata": {},
   "outputs": [],
   "source": []
  },
  {
   "cell_type": "markdown",
   "metadata": {},
   "source": [
    "Adding TTrees isn't as trivial sadly and these require a bit more work, let's tree and write the TreeS (make a new branch for it for our new variable) in our file . To do this you need to create a dictionary in python for all the variables and give each key the respective array of values for all of the events. Here you can send awkward arrays without fear, no need for ak.to_numpy()."
   ]
  },
  {
   "cell_type": "code",
   "execution_count": 23,
   "metadata": {},
   "outputs": [],
   "source": []
  }
 ],
 "metadata": {
  "kernelspec": {
   "display_name": "Python 3",
   "language": "python",
   "name": "python3"
  },
  "language_info": {
   "codemirror_mode": {
    "name": "ipython",
    "version": 3
   },
   "file_extension": ".py",
   "mimetype": "text/x-python",
   "name": "python",
   "nbconvert_exporter": "python",
   "pygments_lexer": "ipython3",
   "version": "3.11.4"
  },
  "orig_nbformat": 4
 },
 "nbformat": 4,
 "nbformat_minor": 2
}
