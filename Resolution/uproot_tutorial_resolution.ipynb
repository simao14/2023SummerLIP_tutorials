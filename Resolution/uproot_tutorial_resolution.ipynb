{
 "cells": [
  {
   "cell_type": "code",
   "execution_count": 1,
   "metadata": {},
   "outputs": [],
   "source": [
    "import numpy as np\n",
    "import uproot\n",
    "import os.path\n",
    "from subprocess import call\n",
    "import matplotlib.pyplot as plt\n",
    "import awkward.operations as ak"
   ]
  },
  {
   "cell_type": "code",
   "execution_count": 2,
   "metadata": {},
   "outputs": [
    {
     "name": "stderr",
     "output_type": "stream",
     "text": [
      "  % Total    % Received % Xferd  Average Speed   Time    Time     Time  Current\n",
      "                                 Dload  Upload   Total   Spent    Left  Speed\n",
      "100   332  100   332    0     0   1225      0 --:--:-- --:--:-- --:--:--  1229\n",
      "100  201k  100  201k    0     0   247k      0 --:--:-- --:--:-- --:--:--  247k\n"
     ]
    }
   ],
   "source": [
    "if not os.path.isfile('tmva_class_example.root'):\n",
    "    call(['curl', '-L', '-O', 'http://root.cern.ch/files/tmva_class_example.root'])  #gets the data in case you don't have it downloaded\n",
    " \n",
    "data = uproot.open('tmva_class_example.root')"
   ]
  },
  {
   "cell_type": "markdown",
   "metadata": {},
   "source": [
    "Let's start by checking what objects we have in our file! "
   ]
  },
  {
   "cell_type": "code",
   "execution_count": 3,
   "metadata": {},
   "outputs": [
    {
     "data": {
      "text/plain": [
       "{'TreeS;1': 'TTree', 'TreeB;1': 'TTree'}"
      ]
     },
     "execution_count": 3,
     "metadata": {},
     "output_type": "execute_result"
    }
   ],
   "source": [
    "data.classnames()"
   ]
  },
  {
   "cell_type": "markdown",
   "metadata": {},
   "source": [
    "We can see that we have two TTree on this file, TreeS corresponds to our signal events and TreeB to our background events. Go ahead and assign each of them to a variable, you can do this by doing var=data[\"nameoftree\"]"
   ]
  },
  {
   "cell_type": "code",
   "execution_count": 4,
   "metadata": {},
   "outputs": [],
   "source": [
    "TreeS=data[\"TreeS\"]\n",
    "TreeB=data[\"TreeB\"]"
   ]
  },
  {
   "cell_type": "markdown",
   "metadata": {},
   "source": [
    "But what about the contents of the trees? Use the .keys() method to see all the variables in each of the trees. "
   ]
  },
  {
   "cell_type": "code",
   "execution_count": 5,
   "metadata": {},
   "outputs": [
    {
     "data": {
      "text/plain": [
       "['var1', 'var2', 'var3', 'var4']"
      ]
     },
     "execution_count": 5,
     "metadata": {},
     "output_type": "execute_result"
    }
   ],
   "source": [
    "TreeS.keys()"
   ]
  },
  {
   "cell_type": "code",
   "execution_count": 6,
   "metadata": {},
   "outputs": [
    {
     "data": {
      "text/plain": [
       "['var1', 'var2', 'var3', 'var4', 'weight']"
      ]
     },
     "execution_count": 6,
     "metadata": {},
     "output_type": "execute_result"
    }
   ],
   "source": [
    "TreeB.keys()"
   ]
  },
  {
   "cell_type": "markdown",
   "metadata": {},
   "source": [
    "Great! Now we can finally start looking at the events themselves. The .arrays() method let's us convert a TTree into an array. By default its converted into an awkward array (good for when variables have different sizes) but you can specify the type you want with the library=\"\" option, setting library=\"np\" makes it a numpy array and library=\"pd\" makes it a pandas array! "
   ]
  },
  {
   "cell_type": "code",
   "execution_count": 7,
   "metadata": {},
   "outputs": [
    {
     "data": {
      "text/html": [
       "<pre>[{var1: -1.14, var2: -0.822, var3: -0.495, var4: -0.629},\n",
       " {var1: 2.14, var2: -0.0189, var3: 0.267, var4: 1.27},\n",
       " {var1: -0.444, var2: 0.487, var3: 0.14, var4: 0.611},\n",
       " {var1: 0.281, var2: -0.347, var3: -0.241, var4: 0.347},\n",
       " {var1: 0.604, var2: 0.151, var3: 0.964, var4: 1.23},\n",
       " {var1: 2.33, var2: 0.565, var3: 2.04, var4: 2.73},\n",
       " {var1: -0.537, var2: 0.831, var3: 1, var4: 1.03},\n",
       " {var1: 0.544, var2: 0.94, var3: 0.11, var4: 0.825},\n",
       " {var1: -0.343, var2: 0.232, var3: -0.281, var4: 0.508},\n",
       " {var1: 0.103, var2: -0.506, var3: -0.383, var4: 0.394},\n",
       " ...,\n",
       " {var1: 0.703, var2: 0.0155, var3: -0.683, var4: -0.204},\n",
       " {var1: 1.08, var2: -0.898, var3: 1.18, var4: 1.11},\n",
       " {var1: -0.322, var2: -0.394, var3: 0.0547, var4: 0.0882},\n",
       " {var1: 0.899, var2: 0.083, var3: 0.904, var4: 1.68},\n",
       " {var1: -0.0407, var2: -0.154, var3: -0.0977, var4: 0.44},\n",
       " {var1: 0.0999, var2: -1.18, var3: 0.0346, var4: 0.645},\n",
       " {var1: 0.377, var2: -0.0309, var3: 1.17, var4: 0.729},\n",
       " {var1: -2.07, var2: -0.636, var3: -0.747, var4: -1.29},\n",
       " {var1: -0.0914, var2: 0.221, var3: 0.569, var4: 1.39}]\n",
       "----------------------------------------------------------\n",
       "type: 6000 * {\n",
       "    var1: float32,\n",
       "    var2: float32,\n",
       "    var3: float32,\n",
       "    var4: float32\n",
       "}</pre>"
      ],
      "text/plain": [
       "<Array [{var1: -1.14, var2: -0.822, ...}, ...] type='6000 * {var1: float32,...'>"
      ]
     },
     "execution_count": 7,
     "metadata": {},
     "output_type": "execute_result"
    }
   ],
   "source": [
    "TreeS.arrays()"
   ]
  },
  {
   "cell_type": "code",
   "execution_count": 8,
   "metadata": {},
   "outputs": [
    {
     "data": {
      "text/plain": [
       "{'var1': array([-1.1436108 ,  2.1434433 , -0.44391322, ...,  0.37746507,\n",
       "        -2.072639  , -0.09141494], dtype=float32),\n",
       " 'var2': array([-0.82237345, -0.01892284,  0.48682657, ..., -0.03094471,\n",
       "        -0.6355861 ,  0.22127129], dtype=float32),\n",
       " 'var3': array([-0.49542558,  0.26702952,  0.13953538, ...,  1.1660821 ,\n",
       "        -0.74737144,  0.569032  ], dtype=float32),\n",
       " 'var4': array([-0.6294274,  1.2674935,  0.6114827, ...,  0.728614 , -1.2856792,\n",
       "         1.3861301], dtype=float32)}"
      ]
     },
     "execution_count": 8,
     "metadata": {},
     "output_type": "execute_result"
    }
   ],
   "source": [
    "TreeS.arrays(library=\"np\")"
   ]
  },
  {
   "cell_type": "code",
   "execution_count": 9,
   "metadata": {},
   "outputs": [
    {
     "data": {
      "text/html": [
       "<div>\n",
       "<style scoped>\n",
       "    .dataframe tbody tr th:only-of-type {\n",
       "        vertical-align: middle;\n",
       "    }\n",
       "\n",
       "    .dataframe tbody tr th {\n",
       "        vertical-align: top;\n",
       "    }\n",
       "\n",
       "    .dataframe thead th {\n",
       "        text-align: right;\n",
       "    }\n",
       "</style>\n",
       "<table border=\"1\" class=\"dataframe\">\n",
       "  <thead>\n",
       "    <tr style=\"text-align: right;\">\n",
       "      <th></th>\n",
       "      <th>var1</th>\n",
       "      <th>var2</th>\n",
       "      <th>var3</th>\n",
       "      <th>var4</th>\n",
       "    </tr>\n",
       "  </thead>\n",
       "  <tbody>\n",
       "    <tr>\n",
       "      <th>0</th>\n",
       "      <td>-1.143611</td>\n",
       "      <td>-0.822373</td>\n",
       "      <td>-0.495426</td>\n",
       "      <td>-0.629427</td>\n",
       "    </tr>\n",
       "    <tr>\n",
       "      <th>1</th>\n",
       "      <td>2.143443</td>\n",
       "      <td>-0.018923</td>\n",
       "      <td>0.267030</td>\n",
       "      <td>1.267493</td>\n",
       "    </tr>\n",
       "    <tr>\n",
       "      <th>2</th>\n",
       "      <td>-0.443913</td>\n",
       "      <td>0.486827</td>\n",
       "      <td>0.139535</td>\n",
       "      <td>0.611483</td>\n",
       "    </tr>\n",
       "    <tr>\n",
       "      <th>3</th>\n",
       "      <td>0.281100</td>\n",
       "      <td>-0.347094</td>\n",
       "      <td>-0.240525</td>\n",
       "      <td>0.347208</td>\n",
       "    </tr>\n",
       "    <tr>\n",
       "      <th>4</th>\n",
       "      <td>0.604006</td>\n",
       "      <td>0.151232</td>\n",
       "      <td>0.964091</td>\n",
       "      <td>1.227711</td>\n",
       "    </tr>\n",
       "    <tr>\n",
       "      <th>...</th>\n",
       "      <td>...</td>\n",
       "      <td>...</td>\n",
       "      <td>...</td>\n",
       "      <td>...</td>\n",
       "    </tr>\n",
       "    <tr>\n",
       "      <th>5995</th>\n",
       "      <td>-0.040650</td>\n",
       "      <td>-0.154212</td>\n",
       "      <td>-0.097715</td>\n",
       "      <td>0.440331</td>\n",
       "    </tr>\n",
       "    <tr>\n",
       "      <th>5996</th>\n",
       "      <td>0.099931</td>\n",
       "      <td>-1.183759</td>\n",
       "      <td>0.034616</td>\n",
       "      <td>0.644502</td>\n",
       "    </tr>\n",
       "    <tr>\n",
       "      <th>5997</th>\n",
       "      <td>0.377465</td>\n",
       "      <td>-0.030945</td>\n",
       "      <td>1.166082</td>\n",
       "      <td>0.728614</td>\n",
       "    </tr>\n",
       "    <tr>\n",
       "      <th>5998</th>\n",
       "      <td>-2.072639</td>\n",
       "      <td>-0.635586</td>\n",
       "      <td>-0.747371</td>\n",
       "      <td>-1.285679</td>\n",
       "    </tr>\n",
       "    <tr>\n",
       "      <th>5999</th>\n",
       "      <td>-0.091415</td>\n",
       "      <td>0.221271</td>\n",
       "      <td>0.569032</td>\n",
       "      <td>1.386130</td>\n",
       "    </tr>\n",
       "  </tbody>\n",
       "</table>\n",
       "<p>6000 rows × 4 columns</p>\n",
       "</div>"
      ],
      "text/plain": [
       "          var1      var2      var3      var4\n",
       "0    -1.143611 -0.822373 -0.495426 -0.629427\n",
       "1     2.143443 -0.018923  0.267030  1.267493\n",
       "2    -0.443913  0.486827  0.139535  0.611483\n",
       "3     0.281100 -0.347094 -0.240525  0.347208\n",
       "4     0.604006  0.151232  0.964091  1.227711\n",
       "...        ...       ...       ...       ...\n",
       "5995 -0.040650 -0.154212 -0.097715  0.440331\n",
       "5996  0.099931 -1.183759  0.034616  0.644502\n",
       "5997  0.377465 -0.030945  1.166082  0.728614\n",
       "5998 -2.072639 -0.635586 -0.747371 -1.285679\n",
       "5999 -0.091415  0.221271  0.569032  1.386130\n",
       "\n",
       "[6000 rows x 4 columns]"
      ]
     },
     "execution_count": 9,
     "metadata": {},
     "output_type": "execute_result"
    }
   ],
   "source": [
    "TreeS.arrays(library=\"pd\")"
   ]
  },
  {
   "cell_type": "markdown",
   "metadata": {},
   "source": [
    "If you want you can go and apply this method to the background tree with any library."
   ]
  },
  {
   "cell_type": "code",
   "execution_count": 10,
   "metadata": {},
   "outputs": [
    {
     "data": {
      "text/html": [
       "<pre>[{var1: -2.76, var2: -1.49, var3: -1.62, var4: -2.92, weight: 0.107},\n",
       " {var1: -0.7, var2: -1.34, var3: -0.823, var4: -1.39, weight: 0.893},\n",
       " {var1: 3.41, var2: 2, var3: 2.61, var4: 3.46, weight: 0.00168},\n",
       " {var1: -3.18, var2: -3, var3: -3.55, var4: -4.12, weight: 0.00503},\n",
       " {var1: 0.967, var2: 0.987, var3: 1.11, var4: 1.66, weight: 0.175},\n",
       " {var1: 0.214, var2: -1.65, var3: -0.949, var4: -1.2, weight: 1.02},\n",
       " {var1: 0.401, var2: 0.362, var3: 0.574, var4: 0.376, weight: 0.905},\n",
       " {var1: 0.977, var2: 0.685, var3: 1.37, var4: 1.85, weight: 0.121},\n",
       " {var1: -1.18, var2: -0.022, var3: -0.214, var4: -1.07, weight: 1.09},\n",
       " {var1: 3.34, var2: 1.75, var3: 2.1, var4: 3.6, weight: 0.00106},\n",
       " ...,\n",
       " {var1: -3.27, var2: -2.8, var3: -2.57, var4: -3.99, weight: 0.00732},\n",
       " {var1: -1.73, var2: -0.676, var3: -1.8, var4: -2.36, weight: 0.291},\n",
       " {var1: -1.85, var2: -3.7, var3: -2.74, var4: -4.23, weight: 0.00363},\n",
       " {var1: -1.8, var2: -0.602, var3: -1.54, var4: -2.43, weight: 0.262},\n",
       " {var1: 1.62, var2: 2.82, var3: 1.47, var4: 1.98, weight: 0.0947},\n",
       " {var1: -0.753, var2: -0.168, var3: -1.66, var4: -1.41, weight: 0.885},\n",
       " {var1: -1.33, var2: -0.995, var3: -1.57, var4: -1.72, weight: 0.669},\n",
       " {var1: -2.19, var2: -4.28, var3: -4.63, var4: -4.56, weight: 0.00121},\n",
       " {var1: -0.953, var2: 0.411, var3: -0.573, var4: -1.61, weight: 0.747}]\n",
       "-----------------------------------------------------------------------\n",
       "type: 6000 * {\n",
       "    var1: float32,\n",
       "    var2: float32,\n",
       "    var3: float32,\n",
       "    var4: float32,\n",
       "    weight: float32\n",
       "}</pre>"
      ],
      "text/plain": [
       "<Array [{var1: -2.76, var2: -1.49, ...}, ...] type='6000 * {var1: float32, ...'>"
      ]
     },
     "execution_count": 10,
     "metadata": {},
     "output_type": "execute_result"
    }
   ],
   "source": [
    "TreeB.arrays()"
   ]
  },
  {
   "cell_type": "markdown",
   "metadata": {},
   "source": [
    "We now have access to both trees and turned them into arrays, what if we want to acess a specific variable or event? Now its trivial since we are using arrays. First lets pass the arrays into a variable for simplicity, then we can acess any variable by doing arrays.varname or arrays[\"varname\"], for the event number we can simply put [i] to specify we want the event number i+1, like always!"
   ]
  },
  {
   "cell_type": "markdown",
   "metadata": {},
   "source": [
    "Try now to print the values of var1 for all events, the values of all variables for the first 10 events and the value of var4 for the 30th event. Use the signal events for this."
   ]
  },
  {
   "cell_type": "code",
   "execution_count": 6,
   "metadata": {},
   "outputs": [],
   "source": [
    "signal=TreeS.arrays()\n",
    "background=TreeB.arrays()"
   ]
  },
  {
   "cell_type": "code",
   "execution_count": 7,
   "metadata": {},
   "outputs": [
    {
     "name": "stdout",
     "output_type": "stream",
     "text": [
      "var1 values = [-1.14, 2.14, -0.444, 0.281, 0.604, ..., -0.0407, 0.0999, 0.377, -2.07, -0.0914]\n",
      "\n",
      "10 first event values =  [{var1: -1.14, var2: -0.822, var3: -0.495, var4: -0.629}, ..., {var1: ..., ...}]\n",
      "\n",
      "var4 for the 30th event = 2.59484\n"
     ]
    }
   ],
   "source": [
    "print(\"var1 values =\",signal.var1)\n",
    "print(\"\")\n",
    "print(\"10 first event values = \",signal[:10])\n",
    "print(\"\")\n",
    "print(\"var4 for the 30th event =\",signal.var4[29])"
   ]
  },
  {
   "cell_type": "markdown",
   "metadata": {},
   "source": [
    "Let's now plot this variables into histograms. Use plt.hist check the distributions of var1 on both signal and background."
   ]
  },
  {
   "cell_type": "code",
   "execution_count": 13,
   "metadata": {},
   "outputs": [
    {
     "data": {
      "image/png": "[encoded data removed]",
      "text/plain": [
       "<Figure size 432x288 with 1 Axes>"
      ]
     },
     "metadata": {
      "needs_background": "light"
     },
     "output_type": "display_data"
    },
    {
     "data": {
      "image/png": "[encoded data removed]",
      "text/plain": [
       "<Figure size 432x288 with 1 Axes>"
      ]
     },
     "metadata": {
      "needs_background": "light"
     },
     "output_type": "display_data"
    }
   ],
   "source": [
    "plt.hist(signal.var1,bins=50)\n",
    "plt.show()\n",
    "plt.hist(background.var1,bins=50)\n",
    "plt.show()"
   ]
  },
  {
   "cell_type": "markdown",
   "metadata": {},
   "source": [
    "Now let's say we want to apply some cuts to our data. For some physics relevant reason we want only events that have positive values of var1. We can easily select this in two different ways, either using the cut functionality of the arrays() method (use .arrays(cut=\"condition\") ) or we can apply a mask to an already built array (array[condition]).\n",
    "\n",
    "Repeat the same plots as before but now only for events with var1>0."
   ]
  },
  {
   "cell_type": "code",
   "execution_count": 14,
   "metadata": {},
   "outputs": [
    {
     "data": {
      "image/png": "[encoded data removed]",
      "text/plain": [
       "<Figure size 432x288 with 1 Axes>"
      ]
     },
     "metadata": {
      "needs_background": "light"
     },
     "output_type": "display_data"
    },
    {
     "data": {
      "image/png": "[encoded data removed]",
      "text/plain": [
       "<Figure size 432x288 with 1 Axes>"
      ]
     },
     "metadata": {
      "needs_background": "light"
     },
     "output_type": "display_data"
    }
   ],
   "source": [
    "plt.hist(signal.var1[(signal.var3>0) | (signal.var1<0)],bins=50)\n",
    "plt.show()\n",
    "plt.hist(background.var1[background.var1>0],bins=50)\n",
    "plt.show()"
   ]
  },
  {
   "cell_type": "code",
   "execution_count": 15,
   "metadata": {},
   "outputs": [
    {
     "data": {
      "image/png": "[encoded data removed]",
      "text/plain": [
       "<Figure size 432x288 with 1 Axes>"
      ]
     },
     "metadata": {
      "needs_background": "light"
     },
     "output_type": "display_data"
    },
    {
     "data": {
      "image/png": "[encoded data removed]",
      "text/plain": [
       "<Figure size 432x288 with 1 Axes>"
      ]
     },
     "metadata": {
      "needs_background": "light"
     },
     "output_type": "display_data"
    }
   ],
   "source": [
    "signal_cut=TreeS.arrays(cut=\"var1>0\")\n",
    "background_cut=TreeB.arrays(cut=\"var1>0\")\n",
    "\n",
    "plt.hist(signal_cut.var1,bins=50)\n",
    "plt.show()\n",
    "plt.hist(background_cut.var1,bins=50)\n",
    "plt.show()"
   ]
  },
  {
   "cell_type": "markdown",
   "metadata": {},
   "source": [
    "For multiple conditions remember you have to do cut=\"(condition1) & (condition2) & etc.\" \n",
    "\n",
    "Try and select all events with var1<0 and var3>var4"
   ]
  },
  {
   "cell_type": "code",
   "execution_count": 16,
   "metadata": {},
   "outputs": [
    {
     "data": {
      "text/html": [
       "<pre>[{var1: -1.14, var2: -0.822, var3: -0.495, var4: -0.629},\n",
       " {var1: -0.42, var2: 0.215, var3: 0.952, var4: 0.443},\n",
       " {var1: -0.686, var2: 1.53, var3: 1.78, var4: 1.65},\n",
       " {var1: -1.07, var2: 1.55, var3: 0.594, var4: 0.546},\n",
       " {var1: -0.735, var2: 1.01, var3: 0.361, var4: 0.166},\n",
       " {var1: -0.998, var2: -0.00321, var3: -0.0454, var4: -0.234},\n",
       " {var1: -0.817, var2: 0.527, var3: 0.471, var4: 0.159},\n",
       " {var1: -1, var2: -1.77, var3: -0.696, var4: -0.801},\n",
       " {var1: -0.763, var2: 0.279, var3: 0.86, var4: 0.268},\n",
       " {var1: -0.714, var2: 0.412, var3: 0.389, var4: 0.124},\n",
       " ...,\n",
       " {var1: -3.2, var2: -1.68, var3: -1.81, var4: -3},\n",
       " {var1: -0.0849, var2: 1.4, var3: 1.26, var4: 1.22},\n",
       " {var1: -0.789, var2: 0.417, var3: 0.941, var4: 0.216},\n",
       " {var1: -1.25, var2: -1.29, var3: -0.524, var4: -1.17},\n",
       " {var1: -0.551, var2: -0.746, var3: -0.216, var4: -0.819},\n",
       " {var1: -0.251, var2: -0.156, var3: 0.151, var4: -0.335},\n",
       " {var1: -0.174, var2: 1.75, var3: 1.59, var4: 1.24},\n",
       " {var1: -1.37, var2: -0.563, var3: -0.224, var4: -0.328},\n",
       " {var1: -2.07, var2: -0.636, var3: -0.747, var4: -1.29}]\n",
       "-------------------------------------------------------------\n",
       "type: 1057 * {\n",
       "    var1: float32,\n",
       "    var2: float32,\n",
       "    var3: float32,\n",
       "    var4: float32\n",
       "}</pre>"
      ],
      "text/plain": [
       "<Array [{var1: -1.14, var2: -0.822, ...}, ...] type='1057 * {var1: float32,...'>"
      ]
     },
     "execution_count": 16,
     "metadata": {},
     "output_type": "execute_result"
    }
   ],
   "source": [
    "TreeS.arrays(cut=\"(var1<0) & (var3>var4)\")"
   ]
  },
  {
   "cell_type": "code",
   "execution_count": 17,
   "metadata": {},
   "outputs": [
    {
     "data": {
      "text/html": [
       "<pre>[{var1: -1.14, var2: -0.822, var3: -0.495, var4: -0.629},\n",
       " {var1: -0.42, var2: 0.215, var3: 0.952, var4: 0.443},\n",
       " {var1: -0.686, var2: 1.53, var3: 1.78, var4: 1.65},\n",
       " {var1: -1.07, var2: 1.55, var3: 0.594, var4: 0.546},\n",
       " {var1: -0.735, var2: 1.01, var3: 0.361, var4: 0.166},\n",
       " {var1: -0.998, var2: -0.00321, var3: -0.0454, var4: -0.234},\n",
       " {var1: -0.817, var2: 0.527, var3: 0.471, var4: 0.159},\n",
       " {var1: -1, var2: -1.77, var3: -0.696, var4: -0.801},\n",
       " {var1: -0.763, var2: 0.279, var3: 0.86, var4: 0.268},\n",
       " {var1: -0.714, var2: 0.412, var3: 0.389, var4: 0.124},\n",
       " ...,\n",
       " {var1: -3.2, var2: -1.68, var3: -1.81, var4: -3},\n",
       " {var1: -0.0849, var2: 1.4, var3: 1.26, var4: 1.22},\n",
       " {var1: -0.789, var2: 0.417, var3: 0.941, var4: 0.216},\n",
       " {var1: -1.25, var2: -1.29, var3: -0.524, var4: -1.17},\n",
       " {var1: -0.551, var2: -0.746, var3: -0.216, var4: -0.819},\n",
       " {var1: -0.251, var2: -0.156, var3: 0.151, var4: -0.335},\n",
       " {var1: -0.174, var2: 1.75, var3: 1.59, var4: 1.24},\n",
       " {var1: -1.37, var2: -0.563, var3: -0.224, var4: -0.328},\n",
       " {var1: -2.07, var2: -0.636, var3: -0.747, var4: -1.29}]\n",
       "-------------------------------------------------------------\n",
       "type: 1057 * {\n",
       "    var1: float32,\n",
       "    var2: float32,\n",
       "    var3: float32,\n",
       "    var4: float32\n",
       "}</pre>"
      ],
      "text/plain": [
       "<Array [{var1: -1.14, var2: -0.822, ...}, ...] type='1057 * {var1: float32,...'>"
      ]
     },
     "execution_count": 17,
     "metadata": {},
     "output_type": "execute_result"
    }
   ],
   "source": [
    "arrays=TreeS.arrays()\n",
    "arrays[(arrays.var1<0) & (arrays.var3>arrays.var4)]"
   ]
  },
  {
   "cell_type": "markdown",
   "metadata": {},
   "source": [
    "But what about if you are interested in a variable thats not listed directly? You can do that with the aliases when calling .arrays!"
   ]
  },
  {
   "cell_type": "code",
   "execution_count": 17,
   "metadata": {},
   "outputs": [
    {
     "name": "stdout",
     "output_type": "stream",
     "text": [
      "[{new: 1.41}, {new: 2.14}, {new: 0.659}, ..., {...}, {new: 2.17}, {new: 0.239}]\n"
     ]
    }
   ],
   "source": [
    "newvar=TreeS.arrays(\"new\",aliases={\"new\":\"sqrt(var1**2+var2**2)\"},library=\"ak\")\n",
    "print(newvar)"
   ]
  },
  {
   "cell_type": "code",
   "execution_count": 19,
   "metadata": {},
   "outputs": [
    {
     "data": {
      "text/plain": [
       "(array([ 658., 1501., 1642., 1104.,  607.,  294.,  125.,   54.,   12.,\n",
       "           3.]),\n",
       " array([0.01593601, 0.4799633 , 0.94399059, 1.40801787, 1.87204516,\n",
       "        2.33607244, 2.80009985, 3.26412702, 3.72815442, 4.19218159,\n",
       "        4.65620899]),\n",
       " <BarContainer object of 10 artists>)"
      ]
     },
     "execution_count": 19,
     "metadata": {},
     "output_type": "execute_result"
    },
    {
     "data": {
      "image/png": "[encoded data removed]",
      "text/plain": [
       "<Figure size 432x288 with 1 Axes>"
      ]
     },
     "metadata": {
      "needs_background": "light"
     },
     "output_type": "display_data"
    }
   ],
   "source": [
    "plt.hist(newvar[\"new\"])"
   ]
  },
  {
   "cell_type": "markdown",
   "metadata": {},
   "source": [
    "So now we know how to read our root files, but what about writing them? To do this we need to open a root file in a different way, let's see how."
   ]
  },
  {
   "cell_type": "code",
   "execution_count": 25,
   "metadata": {},
   "outputs": [
    {
     "data": {
      "text/plain": [
       "{}"
      ]
     },
     "execution_count": 25,
     "metadata": {},
     "output_type": "execute_result"
    }
   ],
   "source": [
    "file=uproot.recreate(\"tim.root\")\n",
    "\n",
    "file.classnames()"
   ]
  },
  {
   "cell_type": "markdown",
   "metadata": {},
   "source": [
    "We can now add data to this file by assignement (think of it as a reverse of what we did at the start). Lets and add our latest histogram here."
   ]
  },
  {
   "cell_type": "code",
   "execution_count": 23,
   "metadata": {},
   "outputs": [],
   "source": [
    "file[\"newhist\"] = np.histogram(newvar[\"new\"])"
   ]
  },
  {
   "cell_type": "code",
   "execution_count": 24,
   "metadata": {},
   "outputs": [
    {
     "data": {
      "text/plain": [
       "{'newhist;1': 'TTree'}"
      ]
     },
     "execution_count": 24,
     "metadata": {},
     "output_type": "execute_result"
    }
   ],
   "source": [
    "file.classnames()"
   ]
  },
  {
   "cell_type": "markdown",
   "metadata": {},
   "source": [
    "Try now to add the histogram you made in this tutorial to this file"
   ]
  },
  {
   "cell_type": "code",
   "execution_count": null,
   "metadata": {},
   "outputs": [],
   "source": []
  },
  {
   "cell_type": "markdown",
   "metadata": {},
   "source": [
    "Adding TTrees isn't as trivial sadly and these require a bit more work, let's tree and write the TreeS in our file. To do this you need to create a dictionary in python for all the variables and give each key the respective array of values for all of the events. "
   ]
  },
  {
   "cell_type": "code",
   "execution_count": 23,
   "metadata": {},
   "outputs": [],
   "source": [
    "var={}\n",
    "for i in TreeS.keys():\n",
    "    var[i]=signal[i]\n",
    "var[\"newvar\"]=newvar[\"new\"]"
   ]
  },
  {
   "cell_type": "code",
   "execution_count": 24,
   "metadata": {},
   "outputs": [
    {
     "data": {
      "text/plain": [
       "{'var1': <Array [-1.14, 2.14, -0.444, ..., 0.377, -2.07, -0.0914] type='6000 * float32'>,\n",
       " 'var2': <Array [-0.822, -0.0189, 0.487, ..., -0.636, 0.221] type='6000 * float32'>,\n",
       " 'var3': <Array [-0.495, 0.267, 0.14, ..., 1.17, -0.747, 0.569] type='6000 * float32'>,\n",
       " 'var4': <Array [-0.629, 1.27, 0.611, ..., 0.729, -1.29, 1.39] type='6000 * float32'>,\n",
       " 'newvar': array([1.4085964 , 2.1435268 , 0.6588316 , ..., 0.37873137, 2.1679027 ,\n",
       "        0.2394111 ], dtype=float32)}"
      ]
     },
     "execution_count": 24,
     "metadata": {},
     "output_type": "execute_result"
    }
   ],
   "source": [
    "var"
   ]
  },
  {
   "cell_type": "code",
   "execution_count": 25,
   "metadata": {},
   "outputs": [],
   "source": [
    "file[\"TreeS\"]= var"
   ]
  },
  {
   "cell_type": "code",
   "execution_count": 26,
   "metadata": {},
   "outputs": [
    {
     "data": {
      "text/plain": [
       "{'newhist;1': 'TH1D', 'treeS;1': 'TTree'}"
      ]
     },
     "execution_count": 26,
     "metadata": {},
     "output_type": "execute_result"
    }
   ],
   "source": [
    "file.classnames()"
   ]
  }
 ],
 "metadata": {
  "kernelspec": {
   "display_name": "Python 3",
   "language": "python",
   "name": "python3"
  },
  "language_info": {
   "codemirror_mode": {
    "name": "ipython",
    "version": 3
   },
   "file_extension": ".py",
   "mimetype": "text/x-python",
   "name": "python",
   "nbconvert_exporter": "python",
   "pygments_lexer": "ipython3",
   "version": "3.11.4"
  },
  "orig_nbformat": 4
 },
 "nbformat": 4,
 "nbformat_minor": 2
}
